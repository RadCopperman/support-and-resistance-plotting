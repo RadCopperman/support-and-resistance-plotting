{
 "cells": [
  {
   "cell_type": "code",
   "execution_count": 1,
   "metadata": {},
   "outputs": [
    {
     "name": "stderr",
     "output_type": "stream",
     "text": [
      "C:\\Users\\harsh\\Anaconda3\\lib\\site-packages\\pandas_datareader\\compat\\__init__.py:7: FutureWarning: pandas.util.testing is deprecated. Use the functions in the public API at pandas.testing instead.\n",
      "  from pandas.util.testing import assert_frame_equal\n"
     ]
    }
   ],
   "source": [
    "import yfinance as yf\n",
    "import datetime as dt\n",
    "import pandas as pd\n",
    "from pandas_datareader import data as pdr \n",
    "import matplotlib.pyplot as plt"
   ]
  },
  {
   "cell_type": "code",
   "execution_count": 2,
   "metadata": {},
   "outputs": [],
   "source": [
    "yf.pdr_override()\n",
    "start = dt.datetime(2020,1,1)\n",
    "now = dt.datetime.now()"
   ]
  },
  {
   "cell_type": "code",
   "execution_count": 5,
   "metadata": {},
   "outputs": [
    {
     "name": "stdout",
     "output_type": "stream",
     "text": [
      "Enter a stock symbol  tsla\n"
     ]
    }
   ],
   "source": [
    "stock = input('Enter a stock symbol  ')"
   ]
  },
  {
   "cell_type": "code",
   "execution_count": null,
   "metadata": {},
   "outputs": [
    {
     "name": "stdout",
     "output_type": "stream",
     "text": [
      "[*********************100%***********************]  1 of 1 completed\n",
      "\n",
      "594.5 :2020-01-22 00:00:00\n",
      "968.99 :2020-02-04 00:00:00\n",
      "944.78 :2020-02-19 00:00:00\n",
      "560.0 :2020-03-26 00:00:00\n",
      "774.95 :2020-04-17 00:00:00\n",
      "869.82 :2020-04-30 00:00:00\n",
      "843.29 :2020-05-12 00:00:00\n",
      "1027.48 :2020-06-10 00:00:00\n"
     ]
    },
    {
     "data": {
      "image/png": "[encoded data removed]",
      "text/plain": [
       "<Figure size 432x288 with 1 Axes>"
      ]
     },
     "metadata": {
      "needs_background": "light"
     },
     "output_type": "display_data"
    }
   ],
   "source": [
    "while stock != 'quit':\n",
    "    df = pdr.get_data_yahoo(stock ,start , now)\n",
    "    df['High'].plot(label='high')\n",
    "    \n",
    "    pivots =[]\n",
    "    dates = []\n",
    "    counter = 0\n",
    "    lastPivot = 0\n",
    "    Range = [0,0,0,0,0,0,0,0,0,0]\n",
    "    daterange = [0,0,0,0,0,0,0,0,0,0]\n",
    "    \n",
    "    for i in df.index:\n",
    "        currentMax = max(Range , default=0)\n",
    "        value=round(df[\"High\"][i],2)\n",
    "        \n",
    "        Range=Range[1:9]\n",
    "        Range.append(value)\n",
    "        daterange=daterange[1:9]\n",
    "        daterange.append(i)\n",
    "        \n",
    "        if currentMax == max(Range , default=0):\n",
    "            counter+=1\n",
    "        else:\n",
    "            counter = 0\n",
    "        if counter ==  5:\n",
    "            lastPivot=currentMax\n",
    "            dateloc =Range.index(lastPivot)\n",
    "            lastDate = daterange[dateloc]\n",
    "            pivots.append(lastPivot)\n",
    "            dates.append(lastDate)\n",
    "    print()\n",
    "    #print(str(pivots))\n",
    "    #print(str(dates))\n",
    "    timeD = dt.timedelta(days=30)\n",
    "    \n",
    "    \n",
    "    for index in range(len(pivots)):\n",
    "        print(str(pivots[index])+\" :\" +str(dates[index]))\n",
    "        \n",
    "        plt.plot_date([dates[index],dates[index]+timeD],\n",
    "            [pivots[index],pivots[index]] , linestyle='-' , linewidth=2, marker=',')\n",
    "    \n",
    "    plt.show()\n",
    "    stock = input('Enter a stock symbol')"
   ]
  },
  {
   "cell_type": "code",
   "execution_count": null,
   "metadata": {},
   "outputs": [],
   "source": []
  }
 ],
 "metadata": {
  "kernelspec": {
   "display_name": "Python 3",
   "language": "python",
   "name": "python3"
  },
  "language_info": {
   "codemirror_mode": {
    "name": "ipython",
    "version": 3
   },
   "file_extension": ".py",
   "mimetype": "text/x-python",
   "name": "python",
   "nbconvert_exporter": "python",
   "pygments_lexer": "ipython3",
   "version": "3.7.0"
  }
 },
 "nbformat": 4,
 "nbformat_minor": 2
}
